{
  "cells": [
    {
      "cell_type": "markdown",
      "metadata": {
        "id": "view-in-github",
        "colab_type": "text"
      },
      "source": [
        "<a href=\"https://colab.research.google.com/github/wacguy/NewPlantils/blob/main/01_Programming_in_python/18-More_Function_Writing.ipynb\" target=\"_parent\"><img src=\"https://colab.research.google.com/assets/colab-badge.svg\" alt=\"Open In Colab\"/></a>"
      ]
    },
    {
      "cell_type": "markdown",
      "id": "778d0c64",
      "metadata": {
        "id": "778d0c64"
      },
      "source": [
        "# More on Writing Functions\n",
        "\n",
        "> Justin Post\n",
        "\n",
        "We've gone through a lot with python already!\n",
        "\n",
        "- `JupyterLab` & Markdown\n",
        "- Basic data types\n",
        "    + Strings, Floats, Ints, Booleans\n",
        "- Compound data types\n",
        "    + Lists, Tuples, Dictionaries, `Numpy` arrays, `pandas` series & data frames\n",
        "- Writing Functions\n",
        "- Control flow (if/then/else, Looping)\n",
        "- Data uses and basic summarizations\n",
        "\n",
        "Next up we'll cover a bit more about writing our own functions that will greatly increase their usefulness! After that we'll talk about how to plot our data using `matplotlib` and `pandas`.\n",
        "\n",
        "Then we'll really be ready to start talking about modeling, data sources, and generally moving towards doing fun things with big data!\n",
        "\n",
        "Note: These types of webpages are built from Jupyter notebooks (`.ipynb` files). You can access your own versions of them by [clicking here](https://colab.research.google.com/github/jbpost2/ST-554-Big-Data-with-Python/blob/main/01_Programming_in_python/18-More_Function_Writing.ipynb). **It is highly recommended that you go through and run the notebooks yourself, modifying and rerunning things where you'd like!**\n",
        "\n",
        "---\n",
        "\n",
        "## Writing Functions Recap\n",
        "\n",
        "- Writing functions is super cool!\n",
        "- Recall the basic syntax"
      ]
    },
    {
      "cell_type": "code",
      "execution_count": null,
      "id": "16750093",
      "metadata": {
        "eval": false,
        "id": "16750093"
      },
      "outputs": [],
      "source": [
        "def func_name(args):\n",
        "    \"\"\"\n",
        "    Doc string\n",
        "    \"\"\"\n",
        "    body\n",
        "    return object"
      ]
    },
    {
      "cell_type": "markdown",
      "id": "0d983e89",
      "metadata": {
        "id": "0d983e89"
      },
      "source": [
        "- We saw that there were many ways to set up your function arguments and to call your function\n",
        "- Remember that variables defined within the function are not generally available outside of the function\n",
        "  + That is, a new *symbol table* is used when the function is called\n",
        "  + We can define global variables if we really want to\n",
        "- We return what we want from the function with `return`\n",
        "  + If we don't return anything then `None` is returned!\n",
        "\n",
        "The topics we'll cover in this notebook are:\n",
        "- Packing and unpacking with functions\n",
        "  + Catching extra arguments given to a function\n",
        "  + Passing your arguments to a function from an object\n",
        "- **lambda** functions\n",
        "- `map()`, `filter()`, and `functools.reduce()`\n",
        "\n",
        "In a later notebook we'll talk about how to handle errors or exceptions!\n",
        "\n",
        "---\n",
        "\n",
        "## Packing and Unpacking\n",
        "\n",
        "Reminder: We can **pack** a list by separating variables to create with commas:\n",
        "\n",
        "`first, second, third = ...`\n",
        "\n",
        "Let's look at an example:"
      ]
    },
    {
      "cell_type": "code",
      "execution_count": 1,
      "id": "d16dbf76",
      "metadata": {
        "colab": {
          "base_uri": "https://localhost:8080/"
        },
        "id": "d16dbf76",
        "outputId": "004ac17e-a42c-4c43-a8d9-b752336fd1fa"
      },
      "outputs": [
        {
          "output_type": "stream",
          "name": "stdout",
          "text": [
            "Dog Cat Horse\n"
          ]
        }
      ],
      "source": [
        "animals = [\"Dog\", \"Cat\", \"Horse\", \"Frog\", \"Cow\", \"Buffalo\", \"Deer\", \"Fish\", \"Bird\", \"Fox\", \"Racoon\"]\n",
        "short_animals = animals[:3]\n",
        "\n",
        "first, second, third = short_animals\n",
        "print(first + \" \" + second + \" \" + third)"
      ]
    },
    {
      "cell_type": "markdown",
      "id": "3141e443",
      "metadata": {
        "id": "3141e443"
      },
      "source": [
        "We saw that we can pack leftover elements into a list using `*variable`:"
      ]
    },
    {
      "cell_type": "code",
      "execution_count": 2,
      "id": "abb19639",
      "metadata": {
        "lines_to_next_cell": 2,
        "colab": {
          "base_uri": "https://localhost:8080/"
        },
        "id": "abb19639",
        "outputId": "8d6f0e27-95b6-478b-e850-56465e756aba"
      },
      "outputs": [
        {
          "output_type": "stream",
          "name": "stdout",
          "text": [
            "Dog Cat Horse\n",
            "['Frog', 'Cow', 'Buffalo', 'Deer', 'Fish', 'Bird', 'Fox', 'Racoon']\n"
          ]
        }
      ],
      "source": [
        "first, second, third, *other = animals\n",
        "print(first + \" \" + second + \" \" + third)\n",
        "print(other)"
      ]
    },
    {
      "cell_type": "markdown",
      "id": "e5793532",
      "metadata": {
        "id": "e5793532"
      },
      "source": [
        "---\n",
        "\n",
        "### Unlimited Positional Arguments\n",
        "\n",
        "- This idea can be used when writing a function!\n",
        "- In this case we define an argument to our function with `*variable`\n",
        "- This allows us to pass unlimited **positional** arguments to our function ([variadic](https://docs.python.org/3/tutorial/controlflow.html#defining-functions) arguments)\n",
        "- The inputs are handled as a `tuple` in the function!\n",
        "\n",
        "Let's write a silly function to print out all arguments passed via this idea"
      ]
    },
    {
      "cell_type": "code",
      "source": [
        "def basic_print(*args):\n",
        "  print(type(args))\n",
        "  print(args)\n",
        "  return None"
      ],
      "metadata": {
        "id": "1VVUr_6SQlqd"
      },
      "id": "1VVUr_6SQlqd",
      "execution_count": 3,
      "outputs": []
    },
    {
      "cell_type": "markdown",
      "source": [
        "We can pass this function as many things as we'd like and it will be accessible within the function body as a tuple. We can see this as the printed values are surrounded by `(` and `)`, which implies we are printing a tuple!"
      ],
      "metadata": {
        "id": "Zh8GnzCYQ4oX"
      },
      "id": "Zh8GnzCYQ4oX"
    },
    {
      "cell_type": "code",
      "source": [
        "basic_print(\"hi\", [\"a list\", \"how fun\"], 3, 10)"
      ],
      "metadata": {
        "colab": {
          "base_uri": "https://localhost:8080/"
        },
        "id": "Piiek6DgQrmp",
        "outputId": "ccda975c-c38e-4594-9484-19e97158da1a"
      },
      "id": "Piiek6DgQrmp",
      "execution_count": 4,
      "outputs": [
        {
          "output_type": "stream",
          "name": "stdout",
          "text": [
            "<class 'tuple'>\n",
            "('hi', ['a list', 'how fun'], 3, 10)\n"
          ]
        }
      ]
    },
    {
      "cell_type": "markdown",
      "source": [
        "As tuples are iterable, we can iterate across these elements via a loop!"
      ],
      "metadata": {
        "id": "E4wTxjRJRO74"
      },
      "id": "E4wTxjRJRO74"
    },
    {
      "cell_type": "code",
      "source": [
        "def basic_print_elements(*args):\n",
        "  for i in args:\n",
        "    print(type(i),i)\n",
        "  return None"
      ],
      "metadata": {
        "id": "wL4T6rbrRTCA"
      },
      "id": "wL4T6rbrRTCA",
      "execution_count": 5,
      "outputs": []
    },
    {
      "cell_type": "code",
      "source": [
        "basic_print_elements(\"hi\", [\"a list\", \"how fun\"], 3, 10)"
      ],
      "metadata": {
        "colab": {
          "base_uri": "https://localhost:8080/"
        },
        "id": "ejkVXPs8RY6D",
        "outputId": "f459a939-0929-46a1-a5d9-d549d8c62d86"
      },
      "id": "ejkVXPs8RY6D",
      "execution_count": null,
      "outputs": [
        {
          "output_type": "stream",
          "name": "stdout",
          "text": [
            "<class 'str'> hi\n",
            "<class 'list'> ['a list', 'how fun']\n",
            "<class 'int'> 3\n",
            "<class 'int'> 10\n"
          ]
        }
      ]
    },
    {
      "cell_type": "markdown",
      "source": [
        "Let's define a function that takes in as many 1D `numpy` arrays or `pandas` `Series` the user would like and returns the means for each input.\n",
        "\n",
        "We'll also take an argument for the number of decimal places to return for the means."
      ],
      "metadata": {
        "id": "Iia6sCPtSqzm"
      },
      "id": "Iia6sCPtSqzm"
    },
    {
      "cell_type": "code",
      "execution_count": null,
      "id": "247583c9",
      "metadata": {
        "lines_to_next_cell": 2,
        "id": "247583c9"
      },
      "outputs": [],
      "source": [
        "def find_means(*args, decimals = 4):\n",
        "    \"\"\"\n",
        "    Assume that args will be a bunch of numpy arrays (1D) or pandas series\n",
        "    Return the mean of each, rounded to `decimals` places\n",
        "    \"\"\"\n",
        "    means = []\n",
        "    for x in args: #iterate over the tuple values\n",
        "        means.append(np.mean(x).round(decimals))\n",
        "    return means"
      ]
    },
    {
      "cell_type": "markdown",
      "id": "e81ce6a3",
      "metadata": {
        "id": "e81ce6a3"
      },
      "source": [
        "- Create some data with `numpy` to send to this"
      ]
    },
    {
      "cell_type": "code",
      "execution_count": null,
      "id": "d306fb06",
      "metadata": {
        "lines_to_next_cell": 2,
        "id": "d306fb06"
      },
      "outputs": [],
      "source": [
        "import numpy as np\n",
        "from numpy.random import default_rng\n",
        "rng = default_rng(3) #set seed to 3\n",
        "\n",
        "#generate a few means from standard normal data\n",
        "n5 = rng.standard_normal(5)       #sample size of 5\n",
        "n25 = rng.standard_normal(25)     #sample size of 25\n",
        "n100 = rng.standard_normal(100)   #sample size of 100\n",
        "n1000 = rng.standard_normal(1000) #sample size of 1000"
      ]
    },
    {
      "cell_type": "markdown",
      "source": [
        "Let's pass these to our function!"
      ],
      "metadata": {
        "id": "mDiBIMA1Ti0p"
      },
      "id": "mDiBIMA1Ti0p"
    },
    {
      "cell_type": "code",
      "execution_count": null,
      "id": "fd7025f6",
      "metadata": {
        "lines_to_next_cell": 2,
        "colab": {
          "base_uri": "https://localhost:8080/"
        },
        "id": "fd7025f6",
        "outputId": "b8b1e591-1ca6-4124-acc9-71fe19310a31"
      },
      "outputs": [
        {
          "output_type": "execute_result",
          "data": {
            "text/plain": [
              "[-0.22, 0.11, -0.01, 0.04]"
            ]
          },
          "metadata": {},
          "execution_count": 10
        }
      ],
      "source": [
        "find_means(n5, n25, n100, n1000, decimals = 2)"
      ]
    },
    {
      "cell_type": "markdown",
      "source": [
        "Awesome! This gives us a lot more functionality with our function writing.\n",
        "\n",
        "---\n",
        "\n",
        "### Unlimited Keyword Arguments\n",
        "\n",
        "- You can also pass unlimited **keyword** arguments if you define the arg with a `**`\n",
        "- Handled as a **dictionary** in the function\n",
        "\n",
        "Let's write a basic function to print out the keywords with their values."
      ],
      "metadata": {
        "id": "tOxNtB49T4jI"
      },
      "id": "tOxNtB49T4jI"
    },
    {
      "cell_type": "code",
      "execution_count": null,
      "id": "42f2feed",
      "metadata": {
        "lines_to_next_cell": 2,
        "id": "42f2feed"
      },
      "outputs": [],
      "source": [
        "def print_key_value_pairs(**kwargs):\n",
        "    \"\"\"\n",
        "    key word args can be anything\n",
        "    \"\"\"\n",
        "    print(type(kwargs), kwargs)\n",
        "    for x in kwargs:\n",
        "        print(x + \" : \" + str(kwargs.get(x))) #cast the value to a string for printing"
      ]
    },
    {
      "cell_type": "markdown",
      "source": [
        "Now we pass as many named arguments as we'd like!"
      ],
      "metadata": {
        "id": "lF26NogYUhdE"
      },
      "id": "lF26NogYUhdE"
    },
    {
      "cell_type": "code",
      "source": [
        "print_key_value_pairs(\n",
        "  name = \"Justin\",\n",
        "  job = \"Professor\",\n",
        "  phone = 9195150637)"
      ],
      "metadata": {
        "colab": {
          "base_uri": "https://localhost:8080/"
        },
        "id": "lYnAeNzvUSS-",
        "outputId": "86a558cc-b3e0-4454-a0e3-475497d741de"
      },
      "id": "lYnAeNzvUSS-",
      "execution_count": null,
      "outputs": [
        {
          "output_type": "stream",
          "name": "stdout",
          "text": [
            "<class 'dict'> {'name': 'Justin', 'job': 'Professor', 'phone': 9195150637}\n",
            "name : Justin\n",
            "job : Professor\n",
            "phone : 9195150637\n"
          ]
        }
      ]
    },
    {
      "cell_type": "markdown",
      "id": "ad78e024",
      "metadata": {
        "id": "ad78e024"
      },
      "source": [
        "---\n",
        "\n",
        "## Unpacking Arguments\n",
        "\n",
        "- Suppose we want to call our function but our *arguments are stored in a list or tuple*\n",
        "  - We'll do this a bit when we do our machine learning models!\n",
        "- We can *unpack* this list or tuple to be our function arguments by calling our function in a particular way."
      ]
    },
    {
      "cell_type": "code",
      "execution_count": null,
      "id": "6d669813",
      "metadata": {
        "lines_to_next_cell": 2,
        "id": "6d669813"
      },
      "outputs": [],
      "source": [
        "#We want to call our find_means function with these arguments\n",
        "call_args = [n5, n25, n100, n1000]"
      ]
    },
    {
      "cell_type": "markdown",
      "id": "c92064c2",
      "metadata": {
        "id": "c92064c2"
      },
      "source": [
        "- Call the function using `*call_args` (unpacking)"
      ]
    },
    {
      "cell_type": "code",
      "execution_count": null,
      "id": "ae7fc95e",
      "metadata": {
        "lines_to_next_cell": 2,
        "colab": {
          "base_uri": "https://localhost:8080/"
        },
        "id": "ae7fc95e",
        "outputId": "6d9f2918-4cf7-413f-dea4-0b4eaed4d41b"
      },
      "outputs": [
        {
          "output_type": "execute_result",
          "data": {
            "text/plain": [
              "[-0.223, 0.114, -0.014, 0.04]"
            ]
          },
          "metadata": {},
          "execution_count": 14
        }
      ],
      "source": [
        "find_means(*call_args, decimals = 3)"
      ]
    },
    {
      "cell_type": "markdown",
      "source": [
        "Nice! Now we can more easily call our function too!\n",
        "\n",
        "- We can do the same thing with our keyword arguments.\n",
        "- Suppose our *keyword arguments* are stored in a *dictionary*\n",
        "- Can call the function using `**kw_call_args` (unpacking)\n",
        "\n",
        "Define a quick function."
      ],
      "metadata": {
        "id": "Pqws4aRdVPMh"
      },
      "id": "Pqws4aRdVPMh"
    },
    {
      "cell_type": "code",
      "source": [
        "def print_items(name, job, number):\n",
        "  print(\"Name is: \", name)\n",
        "  print(\"Job is: \", job)\n",
        "  print(\"Phone number is: \", number)\n",
        "  return"
      ],
      "metadata": {
        "id": "itGvRHnkWVmf"
      },
      "id": "itGvRHnkWVmf",
      "execution_count": null,
      "outputs": []
    },
    {
      "cell_type": "markdown",
      "source": [
        "Create a dictionary with key-value pairs corresponding to our inputs."
      ],
      "metadata": {
        "id": "qTp42RGuWaJH"
      },
      "id": "qTp42RGuWaJH"
    },
    {
      "cell_type": "code",
      "execution_count": null,
      "id": "2849eeae",
      "metadata": {
        "colab": {
          "base_uri": "https://localhost:8080/"
        },
        "id": "2849eeae",
        "outputId": "f81fce67-d00d-4536-a47e-86a19d70dc00"
      },
      "outputs": [
        {
          "output_type": "execute_result",
          "data": {
            "text/plain": [
              "{'name': 'Justin Post', 'job': 'Professor', 'number': '9195150637'}"
            ]
          },
          "metadata": {},
          "execution_count": 16
        }
      ],
      "source": [
        "kw_call_args = {\"name\": \"Justin Post\", \"job\": \"Professor\", \"number\": \"9195150637\"}\n",
        "kw_call_args"
      ]
    },
    {
      "cell_type": "markdown",
      "source": [
        "Call our function using `**` with our dictionary!"
      ],
      "metadata": {
        "id": "pDUuKRamWfYf"
      },
      "id": "pDUuKRamWfYf"
    },
    {
      "cell_type": "code",
      "source": [
        "print_items(**kw_call_args)"
      ],
      "metadata": {
        "colab": {
          "base_uri": "https://localhost:8080/"
        },
        "id": "yuGwkaDZWR3I",
        "outputId": "648f3bbb-0a16-42e4-8e9e-fa6d2fdc72cd"
      },
      "id": "yuGwkaDZWR3I",
      "execution_count": null,
      "outputs": [
        {
          "output_type": "stream",
          "name": "stdout",
          "text": [
            "Name is:  Justin Post\n",
            "Job is:  Professor\n",
            "Phone number is:  9195150637\n"
          ]
        }
      ]
    },
    {
      "cell_type": "markdown",
      "id": "3c6facb2",
      "metadata": {
        "id": "3c6facb2"
      },
      "source": [
        "- Passing named and unnamed arguments can both be done at once!\n",
        "- Recall our `find_means` function inputs:\n",
        "`def find_means(*args, decimals = 4):`\n"
      ]
    },
    {
      "cell_type": "code",
      "execution_count": null,
      "id": "8b1cf05d",
      "metadata": {
        "lines_to_next_cell": 2,
        "colab": {
          "base_uri": "https://localhost:8080/"
        },
        "id": "8b1cf05d",
        "outputId": "71cdf788-8049-46c7-e818-a5b10ef23ddc"
      },
      "outputs": [
        {
          "output_type": "execute_result",
          "data": {
            "text/plain": [
              "[-0.223413, 0.114454, -0.014443, 0.039762]"
            ]
          },
          "metadata": {},
          "execution_count": 18
        }
      ],
      "source": [
        "dec_dictionary = {\"decimals\": 6}\n",
        "find_means(*call_args, **dec_dictionary)"
      ]
    },
    {
      "cell_type": "markdown",
      "id": "2a71c132",
      "metadata": {
        "id": "2a71c132"
      },
      "source": [
        "---\n",
        "\n",
        "## Lambda Functions\n",
        "\n",
        "Another thing that comes up a lot is that we need to create a quick function for a single purpose that we don't want to reuse for later.\n",
        "\n",
        "Rather than define a function and storing it as an object the way we've been doing it, we can create a **lambda** function (also sometimes called an **in-line** function or an **anonymous** function)\n",
        "\n",
        "- Use keyword `lambda`\n",
        "- Define arguments followed by a `:`\n",
        "- Give the action for the function to perform\n",
        "  - Syntax requires a *single* line. Cannot use `return` or some other keywords"
      ]
    },
    {
      "cell_type": "code",
      "execution_count": null,
      "id": "077033c1",
      "metadata": {
        "lines_to_next_cell": 2,
        "colab": {
          "base_uri": "https://localhost:8080/"
        },
        "id": "077033c1",
        "outputId": "5cd28892-fc46-4df2-ac2e-df9ea7837317"
      },
      "outputs": [
        {
          "output_type": "execute_result",
          "data": {
            "text/plain": [
              "100"
            ]
          },
          "metadata": {},
          "execution_count": 19
        }
      ],
      "source": [
        "square_it = lambda x : x**2\n",
        "square_it(10)"
      ]
    },
    {
      "cell_type": "code",
      "source": [
        "square_then_add = lambda x, y : x**2 + y\n",
        "square_then_add(10, 5)"
      ],
      "metadata": {
        "colab": {
          "base_uri": "https://localhost:8080/"
        },
        "id": "5oj0SA7dYbTj",
        "outputId": "3c2a3a79-8cb9-4012-9ff8-5b06bcbb6ca1"
      },
      "id": "5oj0SA7dYbTj",
      "execution_count": null,
      "outputs": [
        {
          "output_type": "execute_result",
          "data": {
            "text/plain": [
              "105"
            ]
          },
          "metadata": {},
          "execution_count": 20
        }
      ]
    },
    {
      "cell_type": "markdown",
      "id": "41b5d625",
      "metadata": {
        "id": "41b5d625"
      },
      "source": [
        "- Can still define the arguments in many ways"
      ]
    },
    {
      "cell_type": "code",
      "execution_count": null,
      "id": "f655f942",
      "metadata": {
        "colab": {
          "base_uri": "https://localhost:8080/"
        },
        "id": "f655f942",
        "outputId": "68fca23a-60fa-4e1f-bff5-03ab3bc91de5"
      },
      "outputs": [
        {
          "output_type": "stream",
          "name": "stdout",
          "text": [
            "hi ho\n"
          ]
        }
      ],
      "source": [
        "my_print = lambda x, y = \"ho\": print(x, y)\n",
        "my_print(\"hi\")"
      ]
    },
    {
      "cell_type": "markdown",
      "source": [
        "- Can create the arbitrary positional arguments too (but then why would we be using lambda function!? This is just to show the functionality.)"
      ],
      "metadata": {
        "id": "QTIhvo1H_uPM"
      },
      "id": "QTIhvo1H_uPM"
    },
    {
      "cell_type": "code",
      "source": [
        "my_print = lambda *x: [print(\"Input: \" + str(z)) for z in x]\n",
        "my_print(\"hi\", \"ho\", \"off\", \"to\", \"work\", \"we\", \"go\")"
      ],
      "metadata": {
        "colab": {
          "base_uri": "https://localhost:8080/"
        },
        "id": "sIlEq1kaZkdk",
        "outputId": "97fe68b2-20d9-4fd3-a103-79a2e3dabee2"
      },
      "id": "sIlEq1kaZkdk",
      "execution_count": null,
      "outputs": [
        {
          "output_type": "stream",
          "name": "stdout",
          "text": [
            "Input: hi\n",
            "Input: ho\n",
            "Input: off\n",
            "Input: to\n",
            "Input: work\n",
            "Input: we\n",
            "Input: go\n"
          ]
        },
        {
          "output_type": "execute_result",
          "data": {
            "text/plain": [
              "[None, None, None, None, None, None, None]"
            ]
          },
          "metadata": {},
          "execution_count": 24
        }
      ]
    },
    {
      "cell_type": "markdown",
      "source": [
        "Now, saving the function function in an object is really kind of counter to the point of an anonymous (lambda) function. We don't usually save these for later use! We'll see many uses for lambda functions. Let's cover one of those here."
      ],
      "metadata": {
        "id": "KcVQulv3ZmSh"
      },
      "id": "KcVQulv3ZmSh"
    },
    {
      "cell_type": "markdown",
      "id": "fb44dcd5",
      "metadata": {
        "id": "fb44dcd5"
      },
      "source": [
        "### `map()`\n",
        "\n",
        "Using lambda functions comes up a lot in the `map/reduce` idea. This is important for some of the legacy big data operations that we'll do!\n",
        "\n",
        "Map/reduce idea:\n",
        "- Apply (or *map*) a function to each element of an iterable object\n",
        "- Combine (or *reduce*) the results where able\n",
        "\n",
        "Example: Counting words\n",
        "- Want to take a list of words and create a tuple with the word and the value 1\n",
        "- Syntax for `map`:\n",
        "  + `map(function, object_to_apply_function_to)`"
      ]
    },
    {
      "cell_type": "code",
      "execution_count": null,
      "id": "2d2607ec",
      "metadata": {
        "id": "2d2607ec"
      },
      "outputs": [],
      "source": [
        "res = map(\n",
        "    lambda word: (word, 1),\n",
        "    [\"these\", \"are\", \"my\", \"words\", \"these\", \"words\", \"rule\"]\n",
        "    )"
      ]
    },
    {
      "cell_type": "markdown",
      "source": [
        "Similar to other functions like `range` or `zip`, we don't get back the actual object we think we would. Instead we get a `map` object that can be used to find the mapped values."
      ],
      "metadata": {
        "id": "vzm-DmyiY2xQ"
      },
      "id": "vzm-DmyiY2xQ"
    },
    {
      "cell_type": "code",
      "source": [
        "print(type(res))\n",
        "res"
      ],
      "metadata": {
        "colab": {
          "base_uri": "https://localhost:8080/"
        },
        "id": "dgfHO3SwZDc8",
        "outputId": "ccd61700-11d9-4b45-bb64-a2234398d45f"
      },
      "id": "dgfHO3SwZDc8",
      "execution_count": null,
      "outputs": [
        {
          "output_type": "stream",
          "name": "stdout",
          "text": [
            "<class 'map'>\n"
          ]
        },
        {
          "output_type": "execute_result",
          "data": {
            "text/plain": [
              "<map at 0x7f615a9b1990>"
            ]
          },
          "metadata": {},
          "execution_count": 26
        }
      ]
    },
    {
      "cell_type": "markdown",
      "source": [
        "We can convert the `map` object to a list using `list()`"
      ],
      "metadata": {
        "id": "eL3vj-6tZG6E"
      },
      "id": "eL3vj-6tZG6E"
    },
    {
      "cell_type": "code",
      "source": [
        "list(res)"
      ],
      "metadata": {
        "colab": {
          "base_uri": "https://localhost:8080/"
        },
        "id": "saBgeqxpZJr3",
        "outputId": "db65a518-e953-4f65-dd1a-913673159bbe"
      },
      "id": "saBgeqxpZJr3",
      "execution_count": null,
      "outputs": [
        {
          "output_type": "execute_result",
          "data": {
            "text/plain": [
              "[('these', 1),\n",
              " ('are', 1),\n",
              " ('my', 1),\n",
              " ('words', 1),\n",
              " ('these', 1),\n",
              " ('words', 1),\n",
              " ('rule', 1)]"
            ]
          },
          "metadata": {},
          "execution_count": 27
        }
      ]
    },
    {
      "cell_type": "markdown",
      "id": "a72cd753",
      "metadata": {
        "id": "a72cd753"
      },
      "source": [
        "Let's return the square of some values without defining a square function via `map()`"
      ]
    },
    {
      "cell_type": "code",
      "execution_count": null,
      "id": "2dcb0907",
      "metadata": {
        "lines_to_next_cell": 2,
        "colab": {
          "base_uri": "https://localhost:8080/"
        },
        "id": "2dcb0907",
        "outputId": "1dfd8ff1-0fc6-4f7e-f26d-e142c0fc2e04"
      },
      "outputs": [
        {
          "output_type": "execute_result",
          "data": {
            "text/plain": [
              "<map at 0x7f615a9b39d0>"
            ]
          },
          "metadata": {},
          "execution_count": 28
        }
      ],
      "source": [
        "map(lambda r: r **2, range(0,5))"
      ]
    },
    {
      "cell_type": "code",
      "source": [
        "list(map(lambda r: r **2, range(0,5)))"
      ],
      "metadata": {
        "colab": {
          "base_uri": "https://localhost:8080/"
        },
        "id": "OYVnjwVDaFUW",
        "outputId": "c7fe2ca9-f2ca-4319-be16-75c557fb2b7c"
      },
      "id": "OYVnjwVDaFUW",
      "execution_count": null,
      "outputs": [
        {
          "output_type": "execute_result",
          "data": {
            "text/plain": [
              "[0, 1, 4, 9, 16]"
            ]
          },
          "metadata": {},
          "execution_count": 29
        }
      ]
    },
    {
      "cell_type": "markdown",
      "source": [
        "Note: this can equivalently be done using a list comprehension!"
      ],
      "metadata": {
        "id": "w1_UpJ7iaJ8m"
      },
      "id": "w1_UpJ7iaJ8m"
    },
    {
      "cell_type": "code",
      "source": [
        "[r ** 2 for r in range(0,5)]"
      ],
      "metadata": {
        "colab": {
          "base_uri": "https://localhost:8080/"
        },
        "id": "_KSAKD27aGbL",
        "outputId": "0d222210-4fdc-4c13-b034-ee6b27262d00"
      },
      "id": "_KSAKD27aGbL",
      "execution_count": null,
      "outputs": [
        {
          "output_type": "execute_result",
          "data": {
            "text/plain": [
              "[0, 1, 4, 9, 16]"
            ]
          },
          "metadata": {},
          "execution_count": 30
        }
      ]
    },
    {
      "cell_type": "markdown",
      "source": [
        "Another example of using map with a lambda function might be to quickly uppercase a list of strings."
      ],
      "metadata": {
        "id": "czB9mmTvaSx5"
      },
      "id": "czB9mmTvaSx5"
    },
    {
      "cell_type": "code",
      "execution_count": null,
      "id": "da44dce3",
      "metadata": {
        "lines_to_next_cell": 0,
        "colab": {
          "base_uri": "https://localhost:8080/"
        },
        "id": "da44dce3",
        "outputId": "2d7ec467-6a60-4435-e95f-01c52d8db020"
      },
      "outputs": [
        {
          "output_type": "execute_result",
          "data": {
            "text/plain": [
              "['CAT', 'DOG', 'WOLF', 'BEAR', 'PARROT']"
            ]
          },
          "metadata": {},
          "execution_count": 31
        }
      ],
      "source": [
        "list(map(lambda x: x.upper(), ['cat', 'dog', 'wolf', 'bear', 'parrot']))"
      ]
    },
    {
      "cell_type": "markdown",
      "id": "d58e6eaf",
      "metadata": {
        "id": "d58e6eaf"
      },
      "source": [
        "Again, this could be done with a list comprehension!"
      ]
    },
    {
      "cell_type": "code",
      "source": [
        "[x.upper() for x in ['cat', 'dog', 'wolf', 'bear', 'parrot']] #equivalent"
      ],
      "metadata": {
        "colab": {
          "base_uri": "https://localhost:8080/"
        },
        "id": "B1UlotWTab3d",
        "outputId": "42040b78-8248-418f-e6ad-46f587fe0ad1"
      },
      "id": "B1UlotWTab3d",
      "execution_count": null,
      "outputs": [
        {
          "output_type": "execute_result",
          "data": {
            "text/plain": [
              "['CAT', 'DOG', 'WOLF', 'BEAR', 'PARROT']"
            ]
          },
          "metadata": {},
          "execution_count": 32
        }
      ]
    },
    {
      "cell_type": "markdown",
      "id": "b6f870c1",
      "metadata": {
        "lines_to_next_cell": 0,
        "id": "b6f870c1"
      },
      "source": [
        "One interesting use of a lambda function is through the creation of a **function generator**\n",
        "\n",
        "- Create a function that generates functions!\n",
        "- Here a function to raise a number to a given power"
      ]
    },
    {
      "cell_type": "code",
      "execution_count": null,
      "id": "b6195de9",
      "metadata": {
        "lines_to_next_cell": 0,
        "id": "b6195de9"
      },
      "outputs": [],
      "source": [
        "def raise_power(k):\n",
        "    return lambda r: r ** k"
      ]
    },
    {
      "cell_type": "code",
      "source": [
        "square = raise_power(2) #creates a function!\n",
        "square(10)"
      ],
      "metadata": {
        "id": "0Uct6Qr0cxWi",
        "outputId": "62a4bf28-422b-4b45-cfb4-e2ec5ab1b32a",
        "colab": {
          "base_uri": "https://localhost:8080/"
        }
      },
      "id": "0Uct6Qr0cxWi",
      "execution_count": null,
      "outputs": [
        {
          "output_type": "execute_result",
          "data": {
            "text/plain": [
              "100"
            ]
          },
          "metadata": {},
          "execution_count": 34
        }
      ]
    },
    {
      "cell_type": "code",
      "source": [
        "cube = raise_power(3)\n",
        "cube(5)"
      ],
      "metadata": {
        "id": "d753322a",
        "outputId": "52418fea-7a2e-48be-d99d-99e2c821a901",
        "colab": {
          "base_uri": "https://localhost:8080/"
        }
      },
      "id": "d753322a",
      "execution_count": null,
      "outputs": [
        {
          "output_type": "execute_result",
          "data": {
            "text/plain": [
              "125"
            ]
          },
          "metadata": {},
          "execution_count": 35
        }
      ]
    },
    {
      "cell_type": "markdown",
      "id": "3c23ba89",
      "metadata": {
        "lines_to_next_cell": 0,
        "id": "3c23ba89"
      },
      "source": [
        "We can put this together with our packing idea and map!"
      ]
    },
    {
      "cell_type": "code",
      "execution_count": null,
      "id": "e16252c1",
      "metadata": {
        "lines_to_next_cell": 0,
        "colab": {
          "base_uri": "https://localhost:8080/"
        },
        "id": "e16252c1",
        "outputId": "2d00f395-5dea-47a8-c554-75170de82de7"
      },
      "outputs": [
        {
          "output_type": "execute_result",
          "data": {
            "text/plain": [
              "4"
            ]
          },
          "metadata": {},
          "execution_count": 36
        }
      ],
      "source": [
        "ident, square, cube = map(raise_power, range(1,4))\n",
        "ident(4)"
      ]
    },
    {
      "cell_type": "code",
      "source": [
        "square(4)"
      ],
      "metadata": {
        "id": "_SCqXeorghQr",
        "outputId": "b65642e4-c116-4fbe-9ff3-f98f91bee443",
        "colab": {
          "base_uri": "https://localhost:8080/"
        }
      },
      "id": "_SCqXeorghQr",
      "execution_count": null,
      "outputs": [
        {
          "output_type": "execute_result",
          "data": {
            "text/plain": [
              "16"
            ]
          },
          "metadata": {},
          "execution_count": 37
        }
      ]
    },
    {
      "cell_type": "code",
      "source": [
        "cube(4)"
      ],
      "metadata": {
        "id": "O2fHIDb9giBD",
        "outputId": "8a1299a8-b4f3-4c9b-cbaa-a40ea3e5bb39",
        "colab": {
          "base_uri": "https://localhost:8080/"
        }
      },
      "id": "O2fHIDb9giBD",
      "execution_count": null,
      "outputs": [
        {
          "output_type": "execute_result",
          "data": {
            "text/plain": [
              "64"
            ]
          },
          "metadata": {},
          "execution_count": 38
        }
      ]
    },
    {
      "cell_type": "markdown",
      "id": "d2b4c16c",
      "metadata": {
        "id": "d2b4c16c"
      },
      "source": [
        "---\n",
        "\n",
        "### `filter()`\n",
        "\n",
        "- Lambda functions can be used with `filter()`\n",
        "  + `filter()` takes a **predicate** (statement to return what you want) as the first arg and an iterable as the second\n",
        "  + We can give the first argument as a lambda function\n",
        "\n",
        "Here we want to return only vowels from a string (an iterable)."
      ]
    },
    {
      "cell_type": "code",
      "execution_count": null,
      "id": "194f5981",
      "metadata": {
        "colab": {
          "base_uri": "https://localhost:8080/"
        },
        "id": "194f5981",
        "outputId": "40c8253b-1ec9-4073-88f2-6c9a2342bea1"
      },
      "outputs": [
        {
          "output_type": "execute_result",
          "data": {
            "text/plain": [
              "<filter at 0x7f615a9b3f40>"
            ]
          },
          "metadata": {},
          "execution_count": 39
        }
      ],
      "source": [
        "filter(lambda x: x in \"aeiou\", \"We want to return just the vowels.\")"
      ]
    },
    {
      "cell_type": "code",
      "source": [
        "#return in list form!\n",
        "list(filter(lambda x: x in \"aeiou\", \"We want to return just the vowels.\"))"
      ],
      "metadata": {
        "id": "BAHLgIj6g2nD",
        "outputId": "889e36e2-d272-4c9e-989c-292fef47323b",
        "colab": {
          "base_uri": "https://localhost:8080/"
        }
      },
      "id": "BAHLgIj6g2nD",
      "execution_count": null,
      "outputs": [
        {
          "output_type": "execute_result",
          "data": {
            "text/plain": [
              "['e', 'a', 'o', 'e', 'u', 'u', 'e', 'o', 'e']"
            ]
          },
          "metadata": {},
          "execution_count": 40
        }
      ]
    },
    {
      "cell_type": "markdown",
      "source": [
        "Equivalent to doing a list comprehension with an `if` in there!"
      ],
      "metadata": {
        "id": "jxwjYFzfg7Jl"
      },
      "id": "jxwjYFzfg7Jl"
    },
    {
      "cell_type": "code",
      "source": [
        "[x for x in \"We want to return just the vowels.\" if x in \"aeiou\"] #equivalent"
      ],
      "metadata": {
        "id": "y0xX3WHZg-Gi",
        "outputId": "df749a56-1419-4539-9d87-2158a171822c",
        "colab": {
          "base_uri": "https://localhost:8080/"
        }
      },
      "id": "y0xX3WHZg-Gi",
      "execution_count": null,
      "outputs": [
        {
          "output_type": "execute_result",
          "data": {
            "text/plain": [
              "['e', 'a', 'o', 'e', 'u', 'u', 'e', 'o', 'e']"
            ]
          },
          "metadata": {},
          "execution_count": 41
        }
      ]
    },
    {
      "cell_type": "markdown",
      "id": "20961328",
      "metadata": {
        "id": "20961328"
      },
      "source": [
        "This time let's use filter to only return even numbers from an iterable object.\n",
        "\n",
        "- Recall the *mod* operator `%`, which returns the remainder\n",
        "- A number is even if, when we divide by 2, we get 0 as the remainder"
      ]
    },
    {
      "cell_type": "code",
      "execution_count": null,
      "id": "b21a4f7c",
      "metadata": {
        "lines_to_next_cell": 0,
        "colab": {
          "base_uri": "https://localhost:8080/"
        },
        "id": "b21a4f7c",
        "outputId": "3757be3a-b4c9-4e2a-9bad-92012e3e1d8b"
      },
      "outputs": [
        {
          "output_type": "execute_result",
          "data": {
            "text/plain": [
              "[1, 3, 5, 7, 9]"
            ]
          },
          "metadata": {},
          "execution_count": 42
        }
      ],
      "source": [
        "list(filter(lambda x: (x % 2) != 0, range(0, 10)))"
      ]
    },
    {
      "cell_type": "markdown",
      "id": "124cda6b",
      "metadata": {
        "id": "124cda6b"
      },
      "source": [
        "Equivalent to this list comprehension with an `if`:"
      ]
    },
    {
      "cell_type": "code",
      "source": [
        "[x for x in range(0, 10) if (x % 2) != 0]"
      ],
      "metadata": {
        "id": "FdcCS92ghW-Q",
        "outputId": "4607e445-6083-48a7-c55f-4ee50dd11218",
        "colab": {
          "base_uri": "https://localhost:8080/"
        }
      },
      "id": "FdcCS92ghW-Q",
      "execution_count": null,
      "outputs": [
        {
          "output_type": "execute_result",
          "data": {
            "text/plain": [
              "[1, 3, 5, 7, 9]"
            ]
          },
          "metadata": {},
          "execution_count": 43
        }
      ]
    },
    {
      "cell_type": "markdown",
      "id": "809bffff",
      "metadata": {
        "id": "809bffff"
      },
      "source": [
        "---\n",
        "\n",
        "### `functools.reduce()`\n",
        "\n",
        "Lambda functions can be used with `functools.reduce()`\n",
        "\n",
        "+ `reduce()` takes in a function of two variables and an iterable\n",
        "+ It applies the function repetitively over the iterable, and returns the result\n",
        "\n",
        "Here, we'll find the cumulative sum of a bunch of numbers (given as an iterable)"
      ]
    },
    {
      "cell_type": "code",
      "execution_count": null,
      "id": "120a0bc6",
      "metadata": {
        "lines_to_next_cell": 2,
        "colab": {
          "base_uri": "https://localhost:8080/"
        },
        "id": "120a0bc6",
        "outputId": "5c65733a-4fa2-4578-acbb-a239d01b83e7"
      },
      "outputs": [
        {
          "output_type": "execute_result",
          "data": {
            "text/plain": [
              "55"
            ]
          },
          "metadata": {},
          "execution_count": 44
        }
      ],
      "source": [
        "from functools import reduce\n",
        "reduce(lambda x, y: x + y, range(1,11)) # sum first 10 numbers"
      ]
    },
    {
      "cell_type": "markdown",
      "source": [
        "Here, `reduce()` works like this:\n",
        "- Takes the first two arguments of the iterable (1 and 2) and adds them\n",
        "- Takes the result of that (3) and adds it to the next argument of the iterable (3)\n",
        "- Repeats until the iterable is exhausted\n",
        "\n",
        "Again, we could do this kind of thing with a list comprehension. Here we just use the sum function on the result."
      ],
      "metadata": {
        "id": "fo9wBBmIhsdR"
      },
      "id": "fo9wBBmIhsdR"
    },
    {
      "cell_type": "code",
      "source": [
        "sum([x for x in range(1,11)])"
      ],
      "metadata": {
        "id": "FZaWHsJ2h_IK",
        "outputId": "9836fe77-df80-42f4-df7f-e80985033b2f",
        "colab": {
          "base_uri": "https://localhost:8080/"
        }
      },
      "id": "FZaWHsJ2h_IK",
      "execution_count": null,
      "outputs": [
        {
          "output_type": "execute_result",
          "data": {
            "text/plain": [
              "55"
            ]
          },
          "metadata": {},
          "execution_count": 45
        }
      ]
    },
    {
      "cell_type": "markdown",
      "id": "8d617dae",
      "metadata": {
        "id": "8d617dae"
      },
      "source": [
        "We can also provide an initial value to `reduce()` to start the computation at. Here we supply 45."
      ]
    },
    {
      "cell_type": "code",
      "execution_count": null,
      "id": "dc90efae",
      "metadata": {
        "lines_to_next_cell": 0,
        "colab": {
          "base_uri": "https://localhost:8080/"
        },
        "id": "dc90efae",
        "outputId": "1e88dcea-1926-4db2-a5c1-a3b620f8596c"
      },
      "outputs": [
        {
          "output_type": "execute_result",
          "data": {
            "text/plain": [
              "100"
            ]
          },
          "metadata": {},
          "execution_count": 46
        }
      ],
      "source": [
        "#add an initial value to the computation\n",
        "reduce(lambda x, y: x + y, range(1,11), 45) # sum first 10 numbers + 45"
      ]
    },
    {
      "cell_type": "markdown",
      "id": "d6d31093",
      "metadata": {
        "id": "d6d31093"
      },
      "source": [
        "Ok, that's a bit silly. We can do more interesting things with this. For instance, here we write a reduce function to find the largest value in a list.\n"
      ]
    },
    {
      "cell_type": "code",
      "execution_count": null,
      "id": "0b5c517f",
      "metadata": {
        "lines_to_next_cell": 2,
        "colab": {
          "base_uri": "https://localhost:8080/"
        },
        "id": "0b5c517f",
        "outputId": "2c8c0d22-b322-409a-d45c-7848aa4e0f56"
      },
      "outputs": [
        {
          "output_type": "execute_result",
          "data": {
            "text/plain": [
              "201"
            ]
          },
          "metadata": {},
          "execution_count": 47
        }
      ],
      "source": [
        "#create a list of numbers to find the max of\n",
        "my_list = [53, 13, 103, 2, 15, -10, 201, 6]\n",
        "reduce(lambda x, y: x if x > y else y, my_list)"
      ]
    },
    {
      "cell_type": "markdown",
      "source": [
        "How does that work?\n",
        "- Take x (53) and y (13), if x > y take x (53), otherwise take y (13)\n",
        "- With the result of that as x, take y as the next value in the iterable (103)\n",
        "- Repeat that step. Here it would keep 103 since it is larger\n",
        "- Keep going until the iterable is exhausted\n",
        "\n",
        "This works with a starting value as well!"
      ],
      "metadata": {
        "id": "A1fczCiSijgu"
      },
      "id": "A1fczCiSijgu"
    },
    {
      "cell_type": "code",
      "source": [
        "reduce(lambda x, y: x if x > y else y, my_list, 500)"
      ],
      "metadata": {
        "id": "zHrozm_hijGz",
        "outputId": "09901fd3-2b93-4f92-b995-4f03a1b6e9de",
        "colab": {
          "base_uri": "https://localhost:8080/"
        }
      },
      "id": "zHrozm_hijGz",
      "execution_count": null,
      "outputs": [
        {
          "output_type": "execute_result",
          "data": {
            "text/plain": [
              "500"
            ]
          },
          "metadata": {},
          "execution_count": 48
        }
      ]
    },
    {
      "cell_type": "markdown",
      "id": "9dcf997c",
      "metadata": {
        "id": "9dcf997c"
      },
      "source": [
        "---\n",
        "\n",
        "## Quick Video\n",
        "\n",
        "This video shows an example of writing more involved functions including the use of `lambda` and `map()`. Remember to pop the video out into the full player.\n",
        "\n",
        "The notebook written in the video is [available here](https://colab.research.google.com/github/jbpost2/ST-554-Big-Data-with-Python/blob/main/01_Programming_in_python/Learning_Python.ipynb)."
      ]
    },
    {
      "cell_type": "code",
      "source": [
        "from IPython.display import IFrame\n",
        "IFrame(src=\"https://ncsu.hosted.panopto.com/Panopto/Pages/Embed.aspx?id=55af749d-fd9d-4b0d-b2b4-b10301614c9c&autoplay=false&offerviewer=true&showtitle=true&showbrand=true&captions=false&interactivity=all\", height=\"405\", width=\"720\")"
      ],
      "metadata": {
        "id": "D52EG1Ubiic4",
        "outputId": "70ad257e-671f-4df2-d3dd-b82a38b71c96",
        "colab": {
          "base_uri": "https://localhost:8080/",
          "height": 446
        }
      },
      "id": "D52EG1Ubiic4",
      "execution_count": null,
      "outputs": [
        {
          "output_type": "execute_result",
          "data": {
            "text/plain": [
              "<IPython.lib.display.IFrame at 0x7f615a9b02e0>"
            ],
            "text/html": [
              "\n",
              "        <iframe\n",
              "            width=\"720\"\n",
              "            height=\"405\"\n",
              "            src=\"https://ncsu.hosted.panopto.com/Panopto/Pages/Embed.aspx?id=55af749d-fd9d-4b0d-b2b4-b10301614c9c&autoplay=false&offerviewer=true&showtitle=true&showbrand=true&captions=false&interactivity=all\"\n",
              "            frameborder=\"0\"\n",
              "            allowfullscreen\n",
              "            \n",
              "        ></iframe>\n",
              "        "
            ]
          },
          "metadata": {},
          "execution_count": 49
        }
      ]
    },
    {
      "cell_type": "markdown",
      "id": "8f6a305e",
      "metadata": {
        "id": "8f6a305e"
      },
      "source": [
        "---\n",
        "\n",
        "# Recap\n",
        "\n",
        "- Unlimited positional and keyword arguments can be handled in your function\n",
        "  + position as a tuple\n",
        "  + keyword as a dictionary\n",
        "\n",
        "- You can also pass your arguments to a function from an object!\n",
        "\n",
        "- **lambda** functions are useful for writing short functions\n",
        "\n",
        "- `map()`, `filter()`, and `functools.reduce()` are common places we use lambda functions\n",
        "\n",
        "If you are on the course website, use the table of contents on the left or the arrows at the bottom of this page to navigate to the next learning material!\n",
        "\n",
        "If you are on Google Colab, head back to our course website for [our next lesson](https://jbpost2.github.io/ST-554-Big-Data-with-Python/01_Programming_in_python/19-Plotting_matplotlib.html)!"
      ]
    }
  ],
  "metadata": {
    "jupytext": {
      "cell_metadata_filter": "message,warning,eval,tags,error,-all",
      "main_language": "python",
      "notebook_metadata_filter": "-all"
    },
    "colab": {
      "provenance": [],
      "toc_visible": true,
      "include_colab_link": true
    },
    "language_info": {
      "name": "python"
    },
    "kernelspec": {
      "name": "python3",
      "display_name": "Python 3"
    }
  },
  "nbformat": 4,
  "nbformat_minor": 5
}